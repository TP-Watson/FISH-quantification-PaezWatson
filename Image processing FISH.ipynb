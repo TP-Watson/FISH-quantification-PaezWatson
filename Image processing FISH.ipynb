{
 "cells": [
  {
   "cell_type": "code",
   "execution_count": 7,
   "id": "d700ef65",
   "metadata": {},
   "outputs": [],
   "source": [
    "from PIL import Image\n",
    "import numpy as np\n",
    "\n",
    "def analyze_image(image_path):\n",
    "    \"\"\"\n",
    "    Analyzes an image and returns the percentages of purple, blue, green,\n",
    "    and the remaining pixels (excluding black and white).\n",
    "\n",
    "    Parameters:\n",
    "        image_path (str): Path to the input PNG image.\n",
    "\n",
    "    Returns:\n",
    "        dict: A dictionary containing percentages of different color categories.\n",
    "            Keys: 'purple', 'blue', 'green'\n",
    "    \"\"\"\n",
    "    # Open the image\n",
    "    image = Image.open(image_path)\n",
    "\n",
    "    # Check if the image has an alpha channel (RGBA)\n",
    "    if image.mode == 'RGBA':\n",
    "        # Get pixel data\n",
    "        rgba_values = list(image.getdata())\n",
    "\n",
    "        # Convert the list to a NumPy array for easier processing\n",
    "        rgba_array = np.array(rgba_values)\n",
    "\n",
    "        # Define boolean masks for black and white pixels\n",
    "        black_mask = np.all((rgba_array[:, :3] >= (0, 0, 0)) & (rgba_array[:, :3] <= (25, 25, 25)), axis=1)\n",
    "        white_mask = np.all((rgba_array[:, :3] >= (200, 200, 200)) & (rgba_array[:, :3] <= (255, 255, 255)), axis=1)\n",
    "\n",
    "        # Calculate the percentage of black and white pixels\n",
    "        percentage_black = (np.sum(black_mask) / rgba_array.shape[0]) * 100\n",
    "        percentage_white = (np.sum(white_mask) / rgba_array.shape[0]) * 100\n",
    "\n",
    "        # Get RGB values for remaining pixels\n",
    "        remaining_pixels = rgba_array[~(black_mask | white_mask), :3]\n",
    "\n",
    "        # Classify pixels into additional color categories\n",
    "        purple_mask = ((remaining_pixels[:, 0] / remaining_pixels[:, 2] >= 0.8) & \n",
    "                       (remaining_pixels[:, 0] / remaining_pixels[:, 2] <= 1.3) &\n",
    "                       (remaining_pixels[:, 1] / remaining_pixels[:, 0] >= 0) & \n",
    "                       (remaining_pixels[:, 1] / remaining_pixels[:, 0] <= 0.2))\n",
    "\n",
    "        blue_mask = ((remaining_pixels[:, 0] < 50) & \n",
    "                         (remaining_pixels[:, 1] < 50) & \n",
    "                         (remaining_pixels[:, 2] > 100))\n",
    "\n",
    "        green_mask = ((remaining_pixels[:, 1] > 50) & ~purple_mask & ~blue_mask)\n",
    "\n",
    "        # Calculate percentages for additional color categories\n",
    "        percentage_purple = (np.sum(purple_mask) / remaining_pixels.shape[0]) * 100\n",
    "        percentage_blue = (np.sum(blue_mask) / remaining_pixels.shape[0]) * 100\n",
    "        percentage_green = (np.sum(green_mask) / remaining_pixels.shape[0]) * 100\n",
    "\n",
    "        # Calculate the percentage of remaining pixels\n",
    "        percentage_remaining = 100 - percentage_black - percentage_white\n",
    "\n",
    "        # Close the image\n",
    "        image.close()\n",
    "\n",
    "        # Return the results\n",
    "        result = {\n",
    "            'purple': percentage_purple,\n",
    "            'blue': percentage_blue,\n",
    "            'green': percentage_green,\n",
    "        }\n",
    "\n",
    "        return result\n",
    "\n",
    "    else:\n",
    "        # Close the image\n",
    "        image.close()\n",
    "        print(\"The image does not have an alpha channel (RGBA).\")\n",
    "        return None\n",
    "\n"
   ]
  },
  {
   "cell_type": "code",
   "execution_count": 8,
   "id": "24415478",
   "metadata": {},
   "outputs": [
    {
     "name": "stdout",
     "output_type": "stream",
     "text": [
      "\n",
      "Percentage of Purple pixels: 34.02%\n",
      "Percentage of Blue pixels: 0.25%\n",
      "Percentage of Green pixels: 0.82%\n"
     ]
    }
   ],
   "source": [
    "image_path = 'original.png'\n",
    "result = analyze_image(image_path)\n",
    "\n",
    "if result:\n",
    "    # Print the results\n",
    "    print(f\"\\nPercentage of Purple pixels: {result['purple']:.2f}%\")\n",
    "    print(f\"Percentage of Blue pixels: {result['blue']:.2f}%\")\n",
    "    print(f\"Percentage of Green pixels: {result['green']:.2f}%\")\n"
   ]
  }
 ],
 "metadata": {
  "kernelspec": {
   "display_name": "Python 3 (ipykernel)",
   "language": "python",
   "name": "python3"
  },
  "language_info": {
   "codemirror_mode": {
    "name": "ipython",
    "version": 3
   },
   "file_extension": ".py",
   "mimetype": "text/x-python",
   "name": "python",
   "nbconvert_exporter": "python",
   "pygments_lexer": "ipython3",
   "version": "3.9.13"
  }
 },
 "nbformat": 4,
 "nbformat_minor": 5
}
